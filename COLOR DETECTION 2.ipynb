{
 "cells": [
  {
   "cell_type": "markdown",
   "id": "de208583",
   "metadata": {},
   "source": [
    "# COMPUTER VISION & IOT INTERNSHIP @ THE SPARKS FOUNDATION - GRIP\n",
    "\n",
    "### RAM GANESH LANKADA "
   ]
  },
  {
   "cell_type": "markdown",
   "id": "333974a5",
   "metadata": {},
   "source": [
    "# ------------------------------------------------------------------------------------------------------------"
   ]
  },
  {
   "cell_type": "markdown",
   "id": "3801b579",
   "metadata": {},
   "source": [
    "## TASK 2 \n",
    "##  COLOR DETECTION USING OPEN CV "
   ]
  },
  {
   "cell_type": "code",
   "execution_count": null,
   "id": "0b7bbd6c",
   "metadata": {},
   "outputs": [],
   "source": []
  },
  {
   "cell_type": "markdown",
   "id": "5e120f80",
   "metadata": {},
   "source": [
    "### INSTALLING & IMPORTING THE REQUIREMENTS "
   ]
  },
  {
   "cell_type": "code",
   "execution_count": 2,
   "id": "6e0fe5c8",
   "metadata": {},
   "outputs": [
    {
     "name": "stdout",
     "output_type": "stream",
     "text": [
      "Collecting opencv-python==4.6.0.66\n",
      "  Using cached opencv_python-4.6.0.66-cp36-abi3-win_amd64.whl (35.6 MB)\n",
      "Requirement already satisfied: numpy>=1.19.3 in c:\\users\\lanka\\anaconda3\\lib\\site-packages (from opencv-python==4.6.0.66) (1.22.4)\n",
      "Installing collected packages: opencv-python\n",
      "Successfully installed opencv-python-4.6.0.66\n"
     ]
    }
   ],
   "source": [
    "# !pip install opencv-python==4.6.0.66"
   ]
  },
  {
   "cell_type": "code",
   "execution_count": 15,
   "id": "eafac200",
   "metadata": {},
   "outputs": [],
   "source": [
    "import cv2 \n",
    "import pandas as pd"
   ]
  },
  {
   "cell_type": "code",
   "execution_count": 16,
   "id": "d7fcff13",
   "metadata": {},
   "outputs": [
    {
     "name": "stdout",
     "output_type": "stream",
     "text": [
      "D:\\1MYFILES\\COMPUTER VISION\\color_detection\n"
     ]
    }
   ],
   "source": [
    "cd D:\\1MYFILES\\COMPUTER VISION\\color_detection"
   ]
  },
  {
   "cell_type": "code",
   "execution_count": 45,
   "id": "0c599602",
   "metadata": {},
   "outputs": [],
   "source": [
    "IMG_PATH = 'scene.jpg'\n",
    "img = cv2.imread(IMG_PATH) "
   ]
  },
  {
   "cell_type": "markdown",
   "id": "2b85f3d5",
   "metadata": {},
   "source": [
    "# VARIABLE DECLARATION"
   ]
  },
  {
   "cell_type": "code",
   "execution_count": 46,
   "id": "855020a4",
   "metadata": {},
   "outputs": [],
   "source": [
    "click = False \n",
    "r = g = b = x_pos = y_pos = 0 "
   ]
  },
  {
   "cell_type": "markdown",
   "id": "ac1c5961",
   "metadata": {},
   "source": [
    "# Reading a csv file containing the color data by assigning the attributes "
   ]
  },
  {
   "cell_type": "code",
   "execution_count": 47,
   "id": "a66fc3dc",
   "metadata": {},
   "outputs": [],
   "source": [
    "index = [\"color\", \"color_name\", \"hex\", \"R\", \"G\", \"B\"]\n",
    "\n",
    "file = pd.read_csv('colors.csv', names = index, header = None ) "
   ]
  },
  {
   "cell_type": "markdown",
   "id": "e4f24de9",
   "metadata": {},
   "source": [
    "# Creating a function to detect the most probable color using the color dataset"
   ]
  },
  {
   "cell_type": "code",
   "execution_count": 48,
   "id": "7de1bdd4",
   "metadata": {},
   "outputs": [],
   "source": [
    "def get_color_name(R, G, B) : \n",
    "    min = 1000 \n",
    "    for i in range( len(file)) : \n",
    "        d = abs( R - int(file.loc[i,\"R\"])) + abs( G - int(file.loc[i,\"G\"]))\n",
    "        if d <= min :\n",
    "            min = d\n",
    "            color = file.loc[i,\"color_name\"]\n",
    "    return( color ) "
   ]
  },
  {
   "cell_type": "markdown",
   "id": "2157f7be",
   "metadata": {},
   "source": [
    "# Extracting the cursor co-ordinates on a click "
   ]
  },
  {
   "cell_type": "code",
   "execution_count": 49,
   "id": "17d4fc25",
   "metadata": {},
   "outputs": [],
   "source": [
    "def draw_function( event, x, y, flags, param ) : \n",
    "    if event == cv2.EVENT_LBUTTONDBLCLK:\n",
    "        global b, g, r, x_pos, y_pos, click\n",
    "        click = True \n",
    "        x_pos = x \n",
    "        y_pos = y \n",
    "        b, g, r = img[y, x]\n",
    "        b = int(b)\n",
    "        g = int(b) \n",
    "        r = int(r) "
   ]
  },
  {
   "cell_type": "markdown",
   "id": "916aa558",
   "metadata": {},
   "source": [
    "# Creating a image window "
   ]
  },
  {
   "cell_type": "code",
   "execution_count": 63,
   "id": "195863ad",
   "metadata": {
    "scrolled": true
   },
   "outputs": [],
   "source": [
    "cv2.namedWindow('image') \n",
    "cv2.setMouseCallback('image', draw_function) "
   ]
  },
  {
   "cell_type": "markdown",
   "id": "44b81737",
   "metadata": {},
   "source": [
    "# Color detection using cursor \n"
   ]
  },
  {
   "cell_type": "code",
   "execution_count": 62,
   "id": "67af29a1",
   "metadata": {},
   "outputs": [],
   "source": [
    "while True : \n",
    "    cv2.imshow(\"image\", img)\n",
    "    if click : \n",
    "        cv2.rectangle( img, (20,20), (750,60), (b,g,r), -1 ) \n",
    "            \n",
    "        text = get_color_name(r, g, b) + \" R = \" + str(r) + \", G = \" + str(g) + \", B = \" + str(b) \n",
    "            \n",
    "        cv2.putText( img, text, (50,50), 2, 0.8, (255,255,255),2,cv2.LINE_AA)\n",
    "            \n",
    "            # if the pointed color is light the text should be dark therefore : \n",
    "        if r + g + b >= 600: \n",
    "            cv2.putText( img, text, (50,50), 2, 0.8, (0,0,0),2,cv2.LINE_AA)\n",
    "            \n",
    "        click = False \n",
    "            \n",
    "    if cv2.waitKey(20) & 0xFF == 27 : \n",
    "        break \n",
    "        \n",
    "cv2.destroyAllWindows() "
   ]
  },
  {
   "cell_type": "markdown",
   "id": "9ce7cbcb",
   "metadata": {},
   "source": [
    "# ERRORS I'VE FACED"
   ]
  },
  {
   "cell_type": "markdown",
   "id": "b46e44c2",
   "metadata": {},
   "source": [
    "1. AttributeError: partially initialized module 'cv2' has no attribute 'gapi_wip_gst_GStreamerPipeline' (most likely due to a circular import)\n",
    "2. error: OpenCV(4.5.4) D:\\a\\opencv-python\\opencv-python\\opencv\\modules\\highgui\\src\\window.cpp:1257: error: (-2:Unspecified error) The function is not implemented. Rebuild the library with Windows, GTK+ 2.x or Cocoa support. If you are on Ubuntu or Debian, install libgtk2.0-dev and pkg-config, then re-run cmake or configure script in function 'cvNamedWindow'\n",
    "- THE CURRENT VERSION IS NOT SUPPORTING SOME OF THE COMMANDS \n",
    "> SOLUTION \n",
    "- THERFORE I'VE UNINTSTALLED THE EXISTING VERSION OF OPENCV-PYTHON\n",
    "- BUT STILL THE ERROR PERSISTED \n",
    "- THEREFORE I THOUGHT OF REMOVING THE ENTIRE LIBRARY MANUALLY BY CD ING INTO THE PYTHON LIBRARY \n",
    "- I'VE DELETED IT MANUALLY & THEN INSTALLED THE UPGRADED VERSION OF OPENCV-PYTHON \n",
    "\n"
   ]
  }
 ],
 "metadata": {
  "kernelspec": {
   "display_name": "Python 3 (ipykernel)",
   "language": "python",
   "name": "python3"
  },
  "language_info": {
   "codemirror_mode": {
    "name": "ipython",
    "version": 3
   },
   "file_extension": ".py",
   "mimetype": "text/x-python",
   "name": "python",
   "nbconvert_exporter": "python",
   "pygments_lexer": "ipython3",
   "version": "3.9.12"
  }
 },
 "nbformat": 4,
 "nbformat_minor": 5
}
